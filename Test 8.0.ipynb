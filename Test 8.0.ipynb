{
 "cells": [
  {
   "cell_type": "code",
   "execution_count": 13,
   "id": "5f896956-5a8b-47a3-a663-12089165ef0c",
   "metadata": {},
   "outputs": [
    {
     "name": "stdout",
     "output_type": "stream",
     "text": [
      "🔎 Raw Data Preview:\n",
      "   Unnamed: 0  Time_spent_Alone Stage_fear  Social_event_attendance  \\\n",
      "0           0               4.0         No                      4.0   \n",
      "1           1               9.0        Yes                      0.0   \n",
      "2           2               9.0        Yes                      1.0   \n",
      "3           3               0.0         No                      6.0   \n",
      "4           4               3.0         No                      9.0   \n",
      "\n",
      "   Going_outside Drained_after_socializing  Friends_circle_size  \\\n",
      "0            6.0                        No                 13.0   \n",
      "1            0.0                       Yes                  0.0   \n",
      "2            2.0                       Yes                  5.0   \n",
      "3            7.0                        No                 14.0   \n",
      "4            4.0                        No                  8.0   \n",
      "\n",
      "   Post_frequency  Personality  \n",
      "0             5.0            1  \n",
      "1             3.0            0  \n",
      "2             2.0            0  \n",
      "3             8.0            1  \n",
      "4             5.0            1  \n",
      "🧠 Personality values: [1 0]\n"
     ]
    },
    {
     "ename": "ValueError",
     "evalue": "❌ ERROR: No data left after preprocessing. Please check your CSV values.",
     "output_type": "error",
     "traceback": [
      "\u001b[1;31m---------------------------------------------------------------------------\u001b[0m",
      "\u001b[1;31mValueError\u001b[0m                                Traceback (most recent call last)",
      "Cell \u001b[1;32mIn[13], line 35\u001b[0m\n\u001b[0;32m     33\u001b[0m \u001b[38;5;66;03m# Step 7: Ensure non-empty dataset\u001b[39;00m\n\u001b[0;32m     34\u001b[0m \u001b[38;5;28;01mif\u001b[39;00m \u001b[38;5;28mlen\u001b[39m(X_encoded) \u001b[38;5;241m==\u001b[39m \u001b[38;5;241m0\u001b[39m \u001b[38;5;129;01mor\u001b[39;00m \u001b[38;5;28mlen\u001b[39m(y) \u001b[38;5;241m==\u001b[39m \u001b[38;5;241m0\u001b[39m:\n\u001b[1;32m---> 35\u001b[0m     \u001b[38;5;28;01mraise\u001b[39;00m \u001b[38;5;167;01mValueError\u001b[39;00m(\u001b[38;5;124m\"\u001b[39m\u001b[38;5;124m❌ ERROR: No data left after preprocessing. Please check your CSV values.\u001b[39m\u001b[38;5;124m\"\u001b[39m)\n\u001b[0;32m     37\u001b[0m \u001b[38;5;66;03m# Step 8: Train-test split\u001b[39;00m\n\u001b[0;32m     38\u001b[0m X_train, X_test, y_train, y_test \u001b[38;5;241m=\u001b[39m train_test_split(X_encoded, y, test_size\u001b[38;5;241m=\u001b[39m\u001b[38;5;241m0.2\u001b[39m, random_state\u001b[38;5;241m=\u001b[39m\u001b[38;5;241m42\u001b[39m)\n",
      "\u001b[1;31mValueError\u001b[0m: ❌ ERROR: No data left after preprocessing. Please check your CSV values."
     ]
    }
   ],
   "source": [
    "##Classification problem\n",
    "import pandas as pd\n",
    "from sklearn.model_selection import train_test_split\n",
    "from sklearn.linear_model import LogisticRegression\n",
    "from sklearn.metrics import accuracy_score\n",
    "\n",
    "# Step 1: Load the dataset\n",
    "df = pd.read_csv(\"Personality_Dataset.csv\")  # Replace with your actual CSV filename\n",
    "\n",
    "# Debugging: Check initial data\n",
    "print(\"🔎 Raw Data Preview:\")\n",
    "print(df.head())\n",
    "print(\"🧠 Personality values:\", df['Personality'].unique())\n",
    "\n",
    "# Step 2: Clean the 'Personality' column\n",
    "df['Personality'] = df['Personality'].astype(str).str.strip().str.lower()\n",
    "\n",
    "# Keep only introvert/extrovert entries\n",
    "df = df[df['Personality'].isin(['introvert', 'extrovert'])]\n",
    "\n",
    "# Step 3: Map to numeric\n",
    "df['Personality'] = df['Personality'].map({'introvert': 0, 'extrovert': 1})\n",
    "\n",
    "# Step 4: Drop missing values\n",
    "df = df.dropna()\n",
    "\n",
    "# Step 5: Separate X and y\n",
    "X = df.drop('Personality', axis=1)\n",
    "y = df['Personality']\n",
    "\n",
    "# Step 6: Encode categorical variables\n",
    "X_encoded = pd.get_dummies(X, drop_first=True)\n",
    "\n",
    "# Step 7: Ensure non-empty dataset\n",
    "if len(X_encoded) == 0 or len(y) == 0:\n",
    "    raise ValueError(\"❌ ERROR: No data left after preprocessing. Please check your CSV values.\")\n",
    "\n",
    "# Step 8: Train-test split\n",
    "X_train, X_test, y_train, y_test = train_test_split(X_encoded, y, test_size=0.2, random_state=42)\n",
    "\n",
    "# Step 9: Train model\n",
    "model = LogisticRegression(max_iter=1000)\n",
    "model.fit(X_train, y_train)\n",
    "\n",
    "# Step 10: Evaluate\n",
    "y_pred = model.predict(X_test)\n",
    "accuracy = accuracy_score(y_test, y_pred)\n",
    "\n",
    "print(\"✅ Model trained successfully!\")\n",
    "print(\"📊 Accuracy on test set:\", accuracy)\n"
   ]
  },
  {
   "cell_type": "code",
   "execution_count": 17,
   "id": "68ed9ff6-bf6e-43db-a435-bbb9bda04c5d",
   "metadata": {},
   "outputs": [
    {
     "name": "stdout",
     "output_type": "stream",
     "text": [
      "✅ Model trained successfully!\n",
      "📉 Mean Squared Error: 41883.55\n",
      "📈 R² Score: 0.86\n"
     ]
    }
   ],
   "source": [
    "##Regression\n",
    "import pandas as pd\n",
    "from sklearn.model_selection import train_test_split\n",
    "from sklearn.linear_model import LinearRegression\n",
    "from sklearn.metrics import mean_squared_error, r2_score\n",
    "\n",
    "# Load the dataset\n",
    "df = pd.read_csv(\"sales.csv\")\n",
    "\n",
    "# Drop unnecessary columns\n",
    "df = df.drop(columns=[\"Unnamed: 0\", \"Unnamed: 0.1\", \"Date\"])\n",
    "\n",
    "# Drop rows with missing values\n",
    "df = df.dropna()\n",
    "\n",
    "# Define target and features\n",
    "X = df.drop(\"Total Amount\", axis=1)  # Features\n",
    "y = df[\"Total Amount\"]               # Target\n",
    "\n",
    "# One-hot encode categorical columns (if any)\n",
    "X_encoded = pd.get_dummies(X, drop_first=True)\n",
    "\n",
    "# Split into train and test sets\n",
    "X_train, X_test, y_train, y_test = train_test_split(X_encoded, y, test_size=0.2, random_state=42)\n",
    "\n",
    "# Train a Linear Regression model\n",
    "model = LinearRegression()\n",
    "model.fit(X_train, y_train)\n",
    "\n",
    "# Predict on test set\n",
    "y_pred = model.predict(X_test)\n",
    "\n",
    "# Evaluate the model\n",
    "mse = mean_squared_error(y_test, y_pred)\n",
    "r2 = r2_score(y_test, y_pred)\n",
    "\n",
    "print(\"✅ Model trained successfully!\")\n",
    "print(f\"📉 Mean Squared Error: {mse:.2f}\")\n",
    "print(f\"📈 R² Score: {r2:.2f}\")\n"
   ]
  },
  {
   "cell_type": "code",
   "execution_count": null,
   "id": "ba6b063f-0a97-40b5-9611-e7c56f6673ec",
   "metadata": {},
   "outputs": [],
   "source": []
  }
 ],
 "metadata": {
  "kernelspec": {
   "display_name": "Python 3 (ipykernel)",
   "language": "python",
   "name": "python3"
  },
  "language_info": {
   "codemirror_mode": {
    "name": "ipython",
    "version": 3
   },
   "file_extension": ".py",
   "mimetype": "text/x-python",
   "name": "python",
   "nbconvert_exporter": "python",
   "pygments_lexer": "ipython3",
   "version": "3.13.1"
  }
 },
 "nbformat": 4,
 "nbformat_minor": 5
}
